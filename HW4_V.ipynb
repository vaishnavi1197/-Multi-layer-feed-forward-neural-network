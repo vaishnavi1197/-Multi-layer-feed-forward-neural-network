{
  "nbformat": 4,
  "nbformat_minor": 0,
  "metadata": {
    "colab": {
      "name": "Untitled1.ipynb",
      "provenance": [],
      "collapsed_sections": []
    },
    "kernelspec": {
      "display_name": "Python 3",
      "name": "python3"
    },
    "language_info": {
      "name": "python"
    }
  },
  "cells": [
    {
      "cell_type": "code",
      "metadata": {
        "id": "7AK5AH3-2Ezp"
      },
      "source": [
        "import numpy as np\n",
        "import pandas as pd\n",
        "import seaborn as sns\n",
        "import matplotlib.pyplot as plt\n",
        "import random \n",
        "from sklearn.metrics import plot_confusion_matrix\n",
        "from sklearn.metrics import confusion_matrix"
      ],
      "execution_count": 1,
      "outputs": []
    },
    {
      "cell_type": "code",
      "metadata": {
        "id": "uBPUZ7vj2KPC"
      },
      "source": [
        "data_i = pd.ExcelFile('temp2.xlsx')"
      ],
      "execution_count": 2,
      "outputs": []
    },
    {
      "cell_type": "code",
      "metadata": {
        "id": "ihp51PwQ2KlZ"
      },
      "source": [
        "data_img = pd.read_excel(data_i) "
      ],
      "execution_count": 3,
      "outputs": []
    },
    {
      "cell_type": "code",
      "metadata": {
        "id": "F30T4keD2Uiq"
      },
      "source": [
        "data0 = data_img[0:400] \n",
        "data2 = data_img[400:500]\n",
        "data1 = data_img[500:900] \n",
        "data3 = data_img[900:1000]\n",
        "data4 = data_img[1000:1400] \n",
        "data5 = data_img[1400:1500]\n",
        "data6 = data_img[1500:1900] \n",
        "data7 = data_img[1900:2000]\n",
        "data8 = data_img[2000:2400] \n",
        "data9 = data_img[2400:2500]\n",
        "data10 = data_img[2500:2900]\n",
        "data11 = data_img[2900:3000]\n",
        "data12 = data_img[3000:3400]\n",
        "data13 = data_img[3400:3500]\n",
        "data14 = data_img[3500:3900]\n",
        "data15 = data_img[3900:4000]\n",
        "data16 = data_img[4000:4400]\n",
        "data17= data_img[4400:4500]\n",
        "data18 = data_img[4500:4900]\n",
        "data19 = data_img[4900:5000]\n",
        "\n",
        "data_training = pd.concat([data0 , data1 , data4 , data6 , data8 , data10 , data12 , data14 , data16 , data18],axis = 0)\n",
        "data_testing = pd.concat([data2 , data3 , data5 , data7 , data9 , data11 , data13 , data15 , data17 , data19],axis = 0)\n",
        "# data_challenge = data4.append(data5)\n",
        "data_training = data_training.sample(frac=1)\n",
        "data_testing = data_testing.sample(frac=1)"
      ],
      "execution_count": 4,
      "outputs": []
    },
    {
      "cell_type": "code",
      "metadata": {
        "id": "JmHU5K4jLT6k"
      },
      "source": [
        "global ly_neurons\n",
        "input1=[0]\n",
        "output1=[0]\n",
        "a = 0\n",
        "print(\"For the required output enter input = 784, hidden layers = 1, hidden layer neurons = 100 and output = 100\")\n",
        "print()\n",
        "input1[0] = int(input(\"Enter no of inputs =\"))\n",
        "layers = int(input(\"Enter no of hidden layers = \"))\n",
        "ly_neurons = [0 for i in range(0,layers)]\n",
        "for i in range(0,layers):\n",
        "    ly_neurons[i] = int(input(\"Enter neurons in hidden layer{} = \".format(i)))\n",
        "output1[0] = 10\n",
        "ly_neurons = input1 + ly_neurons + output1\n",
        "print(ly_neurons)"
      ],
      "execution_count": null,
      "outputs": []
    },
    {
      "cell_type": "code",
      "metadata": {
        "id": "nBd4b0AALZQn"
      },
      "source": [
        "y_training = [0 for f in range(ly_neurons[-1])]\n",
        "s_testing = [0 for f in range(1000)]\n",
        "y_testing = [0 for f in range(1000)]\n",
        "# s_challenge = [0 for f in range(200)]\n",
        "# y_challenge = [0 for f in range(200)]\n",
        "y = np.array(data_training.iloc[:,0])\n",
        "y_test = np.array(data_testing.iloc[:,0])\n",
        "y_actual_layer = [0 for i in range(10)]\n",
        "y_actual_layer2 = [0 for i in range(10)]\n",
        "y_actual_layer_test = [0 for i in range(10)]\n",
        "error = [0 for i in range(21)]\n",
        "error2 = [0 for i in range(21)]\n",
        "global n \n",
        "n = 0.0000001 #LEARNING RATE"
      ],
      "execution_count": 14,
      "outputs": []
    },
    {
      "cell_type": "code",
      "metadata": {
        "id": "TwjItinlLfT_"
      },
      "source": [
        "def init_weights(ly):\n",
        "    w1 = []\n",
        "    for i in range(0,len(ly)-1):\n",
        "        a = [0 for j in range(0,ly[i+1])]\n",
        "        for k in range(0,ly[i+1]):\n",
        "            a[k]= np.random.uniform(-1,1,ly[i]+1)\n",
        "        w1 = w1 + a\n",
        "    return w1 \n",
        "\n",
        "w = init_weights(ly_neurons)"
      ],
      "execution_count": 7,
      "outputs": []
    },
    {
      "cell_type": "code",
      "metadata": {
        "id": "1H1JkqHsMWuT"
      },
      "source": [
        "def sigmoid(z):\n",
        "    return (1.00/(1.00 + np.exp(-z)))\n",
        "def sigmoid_derivative(s):\n",
        "    return ((1-s)*s)"
      ],
      "execution_count": 8,
      "outputs": []
    },
    {
      "cell_type": "code",
      "metadata": {
        "id": "TR0fyk14Qi6w"
      },
      "source": [
        "def relu(x):\n",
        "  if x>=0 :\n",
        "    return x\n",
        "  else :\n",
        "    return 0.01*x\n",
        "\n",
        "def relu_derivative(x):\n",
        "    if x<0 :\n",
        "      return 0.01\n",
        "    else :\n",
        "      return x\n",
        "    "
      ],
      "execution_count": 60,
      "outputs": []
    },
    {
      "cell_type": "code",
      "metadata": {
        "id": "vM16n3UqQnES"
      },
      "source": [
        "def tan_derivative(s):\n",
        "    return (1-(s*s))"
      ],
      "execution_count": 61,
      "outputs": []
    },
    {
      "cell_type": "code",
      "metadata": {
        "id": "gBhjpLBSR1k0"
      },
      "source": [
        "def convert_to_outputvector(y_actual2,k2):\n",
        "    y_output = [0 for i in range(0,ly_neurons[-1])]\n",
        "    a = y_actual2[k2]\n",
        "#     print(\"actual = {}\".format(a))\n",
        "    for i in range(0,ly_neurons[-1]):\n",
        "        if i == a:\n",
        "             y_output[i] = 1\n",
        "        else:\n",
        "             y_output[i] = 0\n",
        "    return(y_output)"
      ],
      "execution_count": 9,
      "outputs": []
    },
    {
      "cell_type": "code",
      "metadata": {
        "id": "5DtJiX3E4Z1V"
      },
      "source": [
        "def hidden_error(outdelta,w4,h2_hidden):\n",
        "  s = (list(map(list, zip(*w4))))\n",
        "  dh = np.dot(s[:][1:],outdelta)\n",
        "  delta = dh*h2_hidden\n",
        "  return delta\n"
      ],
      "execution_count": 10,
      "outputs": []
    },
    {
      "cell_type": "code",
      "metadata": {
        "id": "PlSHxrBLj44R"
      },
      "source": [
        "def output_error(desired,calculated,h2_outer):\n",
        "  delta = np.zeros(len(desired))\n",
        "  for i in range(len(desired)):\n",
        "    a = desired[i] - calculated[i]\n",
        "    delta[i] = a*h2_outer[i]\n",
        "  return delta"
      ],
      "execution_count": 11,
      "outputs": []
    },
    {
      "cell_type": "code",
      "metadata": {
        "id": "132T3c9XltZF"
      },
      "source": [
        "w = init_weights(ly_neurons)\n",
        "w1 = w[0:ly_neurons[1]]\n",
        "w2 = w[ly_neurons[1]:]\n",
        "error = [0 for f in range(500)]\n",
        "h1_h = [0 for f in range(0,len(w1))]\n",
        "h2_h = [0 for f in range(0,len(w1))]\n",
        "h1_o = [0 for f in range(0,len(w2))]\n",
        "y_training = [0 for f in range(0,len(w2))]\n",
        "h2_o = [0 for f in range(0,len(w2))]\n",
        "b = [1]\n",
        "s_training_h = list()\n",
        "s_testing_o = list()\n",
        "# momemtum = np.array([0.5 for i in range(len(w1))])\n",
        "momemtum = 0.005\n",
        "\n",
        "error2 = [0 for f in range(500)]\n",
        "# y_training_total = [0 for f in range(500)]\n",
        "# y_actual_layer_total = [0 for f in range(500)]\n",
        "y_testing_total = [0 for f in range(1000)]\n",
        "y_actual_layer_test_total =  [0 for f in range(1000)]\n",
        "h1_h_test = [0 for f in range(0,len(w1))]\n",
        "h2_h_test = [0 for f in range(0,len(w1))]\n",
        "h1_o_test = [0 for f in range(0,len(w2))]\n",
        "y_testing = [0 for f in range(0,len(w2))]\n",
        "h2_o_test = [0 for f in range(0,len(w2))]\n",
        "b_test = [1]\n",
        "s_testing_h_test = list()\n",
        "s_testing_o_test = list()\n",
        "\n",
        "for epoch in range(1000):\n",
        "  data_training = data_training.sample(frac=1)\n",
        "  data_testing = data_testing.sample(frac=1)\n",
        "  print(\"epoch = {}\".format(epoch))\n",
        "  error_training = 0\n",
        "  error_testing = 0\n",
        "  for j in range(400):\n",
        "    s_training_h = np.dot(w1,data_training.iloc[j,1:])\n",
        "    for i in range(len(w1)):\n",
        "      h1_h[i] = sigmoid(s_training_h[i])\n",
        "      h2_h[i] = sigmoid_derivative(h1_h[i])\n",
        "    if(len(h1_h) == ly_neurons[1]):\n",
        "      h1_h = b + h1_h\n",
        "\n",
        "    s_training_o = np.dot(w2,h1_h)\n",
        "    for i in range(len(w2)):\n",
        "      h1_o[i] = sigmoid(s_training_o[i])\n",
        "      h2_o[i] = sigmoid_derivative(h1_o[i])\n",
        "      if h1_o[i] > 0.75:\n",
        "          y_training[i] = 1\n",
        "      elif h1_o[i] < 0.30:\n",
        "          y_training[i] = 0\n",
        "    y_actual_layer = convert_to_outputvector(y,j)\n",
        "    if y_training != y_actual_layer:\n",
        "      error_training = error_training + 1\n",
        "    # y_training_total[j] = y_training\n",
        "    # y_actual_layer_total[j] = y_actual_layer\n",
        "  error[epoch] = error_training/400\n",
        "  print(\"error = {}\".format(error[epoch]))\n",
        "\n",
        "  for k in range(100):\n",
        "    s_testing_h_test = np.dot(w1,data_testing.iloc[k,1:])\n",
        "    for i in range(len(w1)):\n",
        "      h1_h_test[i] = sigmoid(s_testing_h_test[i])\n",
        "      h2_h_test[i] = sigmoid_derivative(h1_h_test[i])\n",
        "    if(len(h1_h_test) == ly_neurons[1]):\n",
        "      h1_h_test = b_test + h1_h_test\n",
        "    s_testing_o_test = np.dot(w2,h1_h_test)\n",
        "    for i in range(len(w2)):\n",
        "      h1_o_test[i] = sigmoid(s_testing_o_test[i])\n",
        "      h2_o_test[i] = sigmoid_derivative(h1_o_test[i])\n",
        "      if h1_o_test[i] > 0.75:\n",
        "          y_testing[i] = 1\n",
        "      elif h1_o_test[i] < 0.30:\n",
        "          y_testing[i] = 0\n",
        "    y_actual_layer_test = convert_to_outputvector(y_test,k)\n",
        "    if y_testing != y_actual_layer_test:\n",
        "      error_testing= error_testing + 1\n",
        "    y_testing_total[k] = np.argmax(y_testing)\n",
        "    # y_actual_layer_test_total[k] = y_actual_layer_test  \n",
        " \n",
        "  error2[epoch] = error_testing/100\n",
        "  print(\"errortest = {}\".format(error2[epoch]))\n",
        "\n"
      ],
      "execution_count": null,
      "outputs": []
    },
    {
      "cell_type": "code",
      "metadata": {
        "id": "TBfEv0TaVXgH"
      },
      "source": [
        "w = init_weights(ly_neurons)\n",
        "w1 = w[0:ly_neurons[1]]\n",
        "w2 = w[ly_neurons[1]:]\n",
        "error = [0 for f in range(5000)]\n",
        "h1_h = [0 for f in range(0,len(w1))]\n",
        "h2_h = [0 for f in range(0,len(w1))]\n",
        "h1_o = [0 for f in range(0,len(w2))]\n",
        "y_training = [0 for f in range(0,len(w2))]\n",
        "h2_o = [0 for f in range(0,len(w2))]\n",
        "b = [1]\n",
        "s_training_h = list()\n",
        "s_testing_o = list()\n",
        "momemtum = 0.08\n",
        "\n",
        "error2 = [0 for f in range(5000)]\n",
        "y_training_total = [0 for f in range(4000)]\n",
        "# y_actual_layer_total = [0 for f in range(500)]\n",
        "y_testing_total = [0 for f in range(1000)]\n",
        "y_actual_layer_test_total =  [0 for f in range(1000)]\n",
        "h1_h_test = [0 for f in range(0,len(w1))]\n",
        "h2_h_test = [0 for f in range(0,len(w1))]\n",
        "h1_o_test = [0 for f in range(0,len(w2))]\n",
        "y_testing = [0 for f in range(0,len(w2))]\n",
        "h2_o_test = [0 for f in range(0,len(w2))]\n",
        "b_test = [1]\n",
        "s_testing_h_test = list()\n",
        "s_testing_o_test = list()\n",
        "\n",
        "for epoch in range(800):\n",
        "  # data_training = data_training.sample(frac=1)\n",
        "  # data_testing = data_testing.sample(frac=1)\n",
        "  print(\"epoch = {}\".format(epoch))\n",
        "  error_training = 0\n",
        "  error_testing = 0\n",
        "  for j in range(4000):\n",
        "    s_training_h = np.dot(w1,data_training.iloc[j,1:])\n",
        "    for i in range(len(w1)):\n",
        "      h1_h[i] = sigmoid(s_training_h[i])\n",
        "      h2_h[i] = sigmoid_derivative(h1_h[i])\n",
        "    if(len(h1_h) == ly_neurons[1]):\n",
        "      h1_h = b + h1_h\n",
        "    s_training_o = np.dot(w2,h1_h)\n",
        "    for i in range(len(w2)):\n",
        "      h1_o[i] = sigmoid(s_training_o[i])\n",
        "      h2_o[i] = sigmoid_derivative(h1_o[i])\n",
        "      if h1_o[i] > 0.75:\n",
        "          y_training[i] = 1\n",
        "      elif h1_o[i] < 0.30:\n",
        "          y_training[i] = 0\n",
        "    y_actual_layer = convert_to_outputvector(y,j)\n",
        "    if y_training != y_actual_layer:\n",
        "      error_training = error_training + 1\n",
        "    y_training_total[j] = np.argmax(y_training)\n",
        "    # y_actual_layer_total[j] = y_actual_layer\n",
        "    delta_outputlayer = output_error(y_actual_layer,y_training,h2_o)\n",
        "    delta_hiddenlayer = hidden_error(delta_outputlayer,w2,h2_h)\n",
        "    z = data_training.iloc[j,1:]\n",
        "    z = np.array(z)\n",
        "    z = np.reshape(z,(1,785))\n",
        "    g = np.array(delta_hiddenlayer)\n",
        "    g = np.reshape(g,(100,1)) \n",
        "\n",
        "    z2 = np.array(h1_h)\n",
        "    z2 = np.reshape(h1_h,(1,101))\n",
        "    g2 = np.array(delta_outputlayer)\n",
        "    g2 = np.reshape(g2,(10,1))\n",
        "\n",
        "    # w1 = np.dot(g,z) + w1\n",
        "    # w2 = np.dot(g2,z2) + w2\n",
        "    w1 = np.dot(g,z) + np.dot(momemtum,w1)/10000 + w1\n",
        "    w2 = np.dot(g2,z2)  + np.dot(momemtum,w2)/10000 + w2\n",
        "  error[epoch] = error_training/4000\n",
        "  print(\"error = {}\".format(error[epoch]))\n",
        "\n",
        "  for k in range(1000):\n",
        "    s_testing_h_test = np.dot(w1,data_testing.iloc[k,1:])\n",
        "    for i in range(len(w1)):\n",
        "      h1_h_test[i] = sigmoid(s_testing_h_test[i])\n",
        "      h2_h_test[i] = sigmoid_derivative(h1_h_test[i])\n",
        "    if(len(h1_h_test) == ly_neurons[1]):\n",
        "      h1_h_test = b_test + h1_h_test\n",
        "    s_testing_o_test = np.dot(w2,h1_h_test)\n",
        "    for i in range(len(w2)):\n",
        "      h1_o_test[i] = sigmoid(s_testing_o_test[i])\n",
        "      h2_o_test[i] = sigmoid_derivative(h1_o_test[i])\n",
        "      if h1_o_test[i] > 0.75:\n",
        "          y_testing[i] = 1\n",
        "      elif h1_o_test[i] < 0.30:\n",
        "          y_testing[i] = 0\n",
        "    y_actual_layer_test = convert_to_outputvector(y_test,k)\n",
        "    if y_testing != y_actual_layer_test:\n",
        "      error_testing= error_testing + 1\n",
        "    y_testing_total[k] = np.argmax(y_testing)\n",
        "    # y_actual_layer_test_total[k] = y_actual_layer_test  \n",
        " \n",
        "  error2[epoch] = error_testing/1000\n",
        "  print(\"errortest = {}\".format(error2[epoch]))\n"
      ],
      "execution_count": null,
      "outputs": []
    },
    {
      "cell_type": "code",
      "metadata": {
        "colab": {
          "base_uri": "https://localhost:8080/",
          "height": 334
        },
        "id": "EN7Unb_kBYVH",
        "outputId": "21da544f-a024-459f-d624-ce67f7a9e60e"
      },
      "source": [
        "plt.figure(figsize=(9,5))\n",
        "plt.plot(error[:100],label = \"train\")\n",
        "plt.plot(error2[:100],label = \"test\")\n",
        "for i in range(0,100,10):\n",
        "  plt.plot(i,error[i],marker='o', markersize=5, markerfacecolor= 'red', markeredgecolor = 'red')\n",
        "for i in range(0,100,10):\n",
        "  plt.plot(i,error2[i], marker='o', markersize=5, markerfacecolor= 'red', markeredgecolor = 'red')\n",
        "plt.xlabel(\"Epoch\")\n",
        "plt.ylabel(\"Error fraction\")\n",
        "plt.legend()\n",
        "plt.show()"
      ],
      "execution_count": 58,
      "outputs": [
        {
          "output_type": "display_data",
          "data": {
            "image/png": "[encoded data removed]",
            "text/plain": [
              "<Figure size 648x360 with 1 Axes>"
            ]
          },
          "metadata": {
            "needs_background": "light"
          }
        }
      ]
    },
    {
      "cell_type": "code",
      "metadata": {
        "colab": {
          "base_uri": "https://localhost:8080/"
        },
        "id": "sWqFUg7242Qy",
        "outputId": "192a9f8e-a816-414b-b35d-3b5f0424a443"
      },
      "source": [
        "confusion_matrix(y_test,y_testing_total)"
      ],
      "execution_count": 19,
      "outputs": [
        {
          "output_type": "execute_result",
          "data": {
            "text/plain": [
              "array([[99,  0,  0,  0,  0,  1,  0,  0,  0,  0],\n",
              "       [ 0, 96,  0,  2,  0,  2,  0,  0,  0,  0],\n",
              "       [ 4,  3, 84,  0,  3,  0,  0,  3,  3,  0],\n",
              "       [ 3,  2,  4, 82,  1,  2,  0,  2,  3,  1],\n",
              "       [ 2,  0,  0,  0, 96,  0,  2,  0,  0,  0],\n",
              "       [ 5,  1,  0,  1,  1, 89,  2,  0,  0,  1],\n",
              "       [10,  0,  1,  0,  0,  2, 86,  0,  1,  0],\n",
              "       [ 2,  2,  0,  1,  1,  0,  0, 93,  0,  1],\n",
              "       [ 8,  3,  0,  3,  3,  2,  2,  5, 72,  2],\n",
              "       [ 2,  1,  1,  1, 18,  0,  0, 12,  3, 62]])"
            ]
          },
          "metadata": {},
          "execution_count": 19
        }
      ]
    },
    {
      "cell_type": "code",
      "metadata": {
        "id": "VQGTOR0Xk3Bk",
        "colab": {
          "base_uri": "https://localhost:8080/"
        },
        "outputId": "a2c04cd3-1192-429a-c46c-e30960787015"
      },
      "source": [
        "confusion_matrix(y,y_training_total)"
      ],
      "execution_count": 20,
      "outputs": [
        {
          "output_type": "execute_result",
          "data": {
            "text/plain": [
              "array([[398,   0,   0,   0,   1,   0,   1,   0,   0,   0],\n",
              "       [  2, 395,   1,   0,   1,   1,   0,   0,   0,   0],\n",
              "       [ 20,   1, 363,   1,   2,   1,   3,   7,   2,   0],\n",
              "       [ 10,   1,   8, 366,   1,   3,   1,   7,   2,   1],\n",
              "       [  9,   0,   0,   0, 388,   0,   0,   0,   0,   3],\n",
              "       [ 20,   0,   1,   7,   1, 362,   3,   2,   1,   3],\n",
              "       [  6,   1,   1,   0,   6,   2, 380,   1,   3,   0],\n",
              "       [ 13,   2,   4,   1,   4,   0,   0, 375,   0,   1],\n",
              "       [ 12,   1,   1,   6,   4,   5,   3,   3, 362,   3],\n",
              "       [ 14,   4,   0,   4,  18,   1,   0,  19,  15, 325]])"
            ]
          },
          "metadata": {},
          "execution_count": 20
        }
      ]
    }
  ]
}